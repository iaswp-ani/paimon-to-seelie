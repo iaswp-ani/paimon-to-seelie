{
  "nbformat": 4,
  "nbformat_minor": 0,
  "metadata": {
    "colab": {
      "provenance": []
    },
    "kernelspec": {
      "name": "python3",
      "display_name": "Python 3"
    },
    "language_info": {
      "name": "python"
    }
  },
  "cells": [
    {
      "cell_type": "markdown",
      "source": [
        "# Convertor for Paimon.moe's Export to Seelie.me's Import, for Achievements\n",
        "\n",
        "This script converts the data format of Paimon.moe to Seelie.me, for the Achievements only.\n",
        "\n",
        "Steps:\n",
        "\n",
        "1. Go to [Paimon.moe's Settings](https://paimon.moe/settings) and Export the data. This will download a file with a `.json` extension.\n",
        "2. Select Runtime menu above here, and Run all cells.\n",
        "3. Upload Paimon's json file here in the cell below when it instructs you.\n",
        "4. The program will create a file in the format of Seelie.me and download it.\n",
        "\n",
        "Once the file is downloaded, click on Runtime menu again, and then \"Disconnect and delete runtime\". After that you can safely close this browser tab."
      ],
      "metadata": {
        "id": "v_yuQB-haBvG"
      }
    },
    {
      "cell_type": "code",
      "execution_count": null,
      "metadata": {
        "id": "C6cV6PoyYQ2w"
      },
      "outputs": [],
      "source": [
        "from google.colab import files\n",
        "\n",
        "uploaded_files = files.upload()\n",
        "\n",
        "for fn in uploaded_files.keys():\n",
        "    print(f\"Uploaded file '{fn}'\")\n",
        "\n",
        "paimon_datafile = list(uploaded_files.keys())[0]"
      ]
    },
    {
      "cell_type": "code",
      "source": [
        "import json\n",
        "\n",
        "with open(paimon_datafile, \"r\", encoding=\"utf-8\") as f:\n",
        "    pdata = json.load(f)\n",
        "\n",
        "achdata = dict()\n",
        "pachdata = pdata['achievement']\n",
        "\n",
        "for category in pachdata:\n",
        "    for achievement in pachdata[category]:\n",
        "        achdata[achievement] = {\n",
        "            'done': pachdata[category][achievement]\n",
        "        }\n",
        "\n",
        "seelie_data = {\n",
        "    'achievements': achdata\n",
        "}\n",
        "\n",
        "seelie_datafile = \"seelie-achievement-data.json\"\n",
        "with open(seelie_datafile, \"w\") as f:\n",
        "    json.dump(seelie_data, f)\n",
        "\n",
        "files.download(seelie_datafile)"
      ],
      "metadata": {
        "id": "NPgNhek3YwEp"
      },
      "execution_count": null,
      "outputs": []
    }
  ]
}